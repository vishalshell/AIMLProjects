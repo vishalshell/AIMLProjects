{
 "cells": [
  {
   "cell_type": "code",
   "execution_count": 3,
   "id": "412d54e6",
   "metadata": {},
   "outputs": [
    {
     "name": "stderr",
     "output_type": "stream",
     "text": [
      "[nltk_data] Downloading package vader_lexicon to\n",
      "[nltk_data]     C:\\Users\\hhp\\AppData\\Roaming\\nltk_data...\n",
      "[nltk_data]   Package vader_lexicon is already up-to-date!\n"
     ]
    },
    {
     "name": "stdout",
     "output_type": "stream",
     "text": [
      "Enter a line of text: i love moves but hate driving\n",
      "The sentiment of the text is: negative\n"
     ]
    }
   ],
   "source": [
    "import nltk\n",
    "nltk.download('vader_lexicon')\n",
    "from nltk.sentiment.vader import SentimentIntensityAnalyzer\n",
    "\n",
    "def get_sentiment(text):\n",
    "  analyzer = SentimentIntensityAnalyzer()\n",
    "  score = analyzer.polarity_scores(text)\n",
    "  sentiment = \"neutral\"\n",
    "\n",
    "  if score[\"compound\"] > 0.5:\n",
    "    sentiment = \"positive\"\n",
    "  elif score[\"compound\"] < -0.5:\n",
    "    sentiment = \"negative\"\n",
    "\n",
    "  # Check for sarcasm\n",
    "\n",
    "  if any(word in text for word in [\"sarcastic\", \"kidding\", \"joking\"]):\n",
    "    sentiment = \"sarcastic\"\n",
    "\n",
    "  return sentiment\n",
    "\n",
    "def main():\n",
    "  text = input(\"Enter a line of text: \")\n",
    "  sentiment = get_sentiment(text)\n",
    "  print(\"The sentiment of the text is:\", sentiment)\n",
    "\n",
    "if __name__ == \"__main__\":\n",
    "  main()\n"
   ]
  },
  {
   "cell_type": "code",
   "execution_count": 2,
   "id": "550cd099",
   "metadata": {},
   "outputs": [
    {
     "name": "stderr",
     "output_type": "stream",
     "text": [
      "[nltk_data] Downloading package vader_lexicon to\n",
      "[nltk_data]     C:\\Users\\hhp\\AppData\\Roaming\\nltk_data...\n"
     ]
    },
    {
     "data": {
      "text/plain": [
       "True"
      ]
     },
     "execution_count": 2,
     "metadata": {},
     "output_type": "execute_result"
    }
   ],
   "source": [
    "nltk.download('vader_lexicon')"
   ]
  },
  {
   "cell_type": "code",
   "execution_count": null,
   "id": "15fcdc32",
   "metadata": {},
   "outputs": [],
   "source": []
  }
 ],
 "metadata": {
  "kernelspec": {
   "display_name": "Python 3 (ipykernel)",
   "language": "python",
   "name": "python3"
  },
  "language_info": {
   "codemirror_mode": {
    "name": "ipython",
    "version": 3
   },
   "file_extension": ".py",
   "mimetype": "text/x-python",
   "name": "python",
   "nbconvert_exporter": "python",
   "pygments_lexer": "ipython3",
   "version": "3.11.3"
  }
 },
 "nbformat": 4,
 "nbformat_minor": 5
}
