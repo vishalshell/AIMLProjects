{
 "cells": [
  {
   "cell_type": "code",
   "execution_count": 7,
   "id": "8f43bdc9",
   "metadata": {},
   "outputs": [
    {
     "name": "stdout",
     "output_type": "stream",
     "text": [
      "Enter a line of text: I'm just kidding, I actually love this movie. tell me how bad it was\n",
      "The sentiment of the text is: sarcastic\n"
     ]
    }
   ],
   "source": [
    "import nltk\n",
    "from nltk.sentiment.vader import SentimentIntensityAnalyzer\n",
    "from textblob import TextBlob\n",
    "\n",
    "def get_sentiment(text):\n",
    "  analyzer = SentimentIntensityAnalyzer()\n",
    "  score = analyzer.polarity_scores(text)\n",
    "  sentiment = \"neutral\"\n",
    "\n",
    "  if score[\"compound\"] > 0.5:\n",
    "    sentiment = \"positive\"\n",
    "  elif score[\"compound\"] < -0.5:\n",
    "    sentiment = \"negative\"\n",
    "\n",
    "  # Check for sarcasm using TextBlob\n",
    "\n",
    "  blob = TextBlob(text)\n",
    "  if blob.sentiment.polarity < 0:\n",
    "    sentiment = \"sarcastic\"\n",
    "\n",
    "  return sentiment\n",
    "\n",
    "def main():\n",
    "  text = input(\"Enter a line of text: \")\n",
    "  sentiment = get_sentiment(text)\n",
    "  print(\"The sentiment of the text is:\", sentiment)\n",
    "\n",
    "if __name__ == \"__main__\":\n",
    "  main()\n"
   ]
  },
  {
   "cell_type": "code",
   "execution_count": null,
   "id": "64120025",
   "metadata": {},
   "outputs": [],
   "source": []
  },
  {
   "cell_type": "code",
   "execution_count": null,
   "id": "e0f12c3d",
   "metadata": {},
   "outputs": [],
   "source": []
  }
 ],
 "metadata": {
  "kernelspec": {
   "display_name": "Python 3 (ipykernel)",
   "language": "python",
   "name": "python3"
  },
  "language_info": {
   "codemirror_mode": {
    "name": "ipython",
    "version": 3
   },
   "file_extension": ".py",
   "mimetype": "text/x-python",
   "name": "python",
   "nbconvert_exporter": "python",
   "pygments_lexer": "ipython3",
   "version": "3.11.3"
  }
 },
 "nbformat": 4,
 "nbformat_minor": 5
}
